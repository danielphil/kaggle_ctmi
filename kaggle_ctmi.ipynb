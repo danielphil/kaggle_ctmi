{
 "cells": [
  {
   "cell_type": "markdown",
   "metadata": {},
   "source": [
    "# A simple solution to CT / CTA detection\n",
    ".. for the purpose of developing the SHAIP API"
   ]
  },
  {
   "cell_type": "code",
   "execution_count": null,
   "metadata": {},
   "outputs": [],
   "source": [
    "# Check we've got the right Python version\n",
    "import sys\n",
    "print(sys.version)\n",
    "assert sys.version[:3] == '3.5'\n",
    "\n",
    "assert any(['envs/kaggle_ctmi' in p for p in sys.path])         # check virtual environment\n",
    "assert any(['/kaggle_ctmi/kaggle_ctmi' in p for p in sys.path]) # check source folder in path"
   ]
  },
  {
   "cell_type": "code",
   "execution_count": null,
   "metadata": {},
   "outputs": [],
   "source": [
    "import matplotlib\n",
    "%matplotlib inline\n",
    "# All the code is in the following script\n",
    "from kaggle_ctmi_simple import ShaipWorkspace, main"
   ]
  },
  {
   "cell_type": "code",
   "execution_count": null,
   "metadata": {},
   "outputs": [],
   "source": [
    "main(ShaipWorkspace())"
   ]
  }
 ],
 "metadata": {
  "kernelspec": {
   "display_name": "Python 3",
   "language": "python",
   "name": "python3"
  },
  "language_info": {
   "codemirror_mode": {
    "name": "ipython",
    "version": 3
   },
   "file_extension": ".py",
   "mimetype": "text/x-python",
   "name": "python",
   "nbconvert_exporter": "python",
   "pygments_lexer": "ipython3",
   "version": "3.5.6"
  }
 },
 "nbformat": 4,
 "nbformat_minor": 2
}
